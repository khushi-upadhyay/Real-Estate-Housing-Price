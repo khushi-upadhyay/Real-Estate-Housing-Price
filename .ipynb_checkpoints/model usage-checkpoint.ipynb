{
 "cells": [
  {
   "cell_type": "markdown",
   "id": "4d2c386a-7681-4fb4-88a5-957f452f5e04",
   "metadata": {},
   "source": [
    "## using model "
   ]
  },
  {
   "cell_type": "code",
   "execution_count": 5,
   "id": "e70b4902-268e-4f97-a190-b8f83e867315",
   "metadata": {},
   "outputs": [],
   "source": [
    "from joblib import dump, load\n",
    "import numpy as np\n",
    "model = load('REALESTATE.joblib')"
   ]
  },
  {
   "cell_type": "code",
   "execution_count": 10,
   "id": "a1af2dc3-5391-4ceb-8f8c-44d2bd3a512b",
   "metadata": {},
   "outputs": [
    {
     "data": {
      "text/plain": [
       "array([22.363])"
      ]
     },
     "execution_count": 10,
     "metadata": {},
     "output_type": "execute_result"
    }
   ],
   "source": [
    "input= np.array([[-0.43942006,  3.12628155, -1.12165014, -0.27288841, -1.42262747,\n",
    "       -0.24629006, -1.31238772,  2.61111401, -1.0016859 , -0.5778192 ,\n",
    "       -0.97491834,  0.41164221, -0.86091034]])\n",
    "model.predict(input)"
   ]
  },
  {
   "cell_type": "code",
   "execution_count": null,
   "id": "fb6a5aaf-c82d-479c-8bea-6e5a925060b7",
   "metadata": {},
   "outputs": [],
   "source": []
  }
 ],
 "metadata": {
  "kernelspec": {
   "display_name": "Python 3 (ipykernel)",
   "language": "python",
   "name": "python3"
  },
  "language_info": {
   "codemirror_mode": {
    "name": "ipython",
    "version": 3
   },
   "file_extension": ".py",
   "mimetype": "text/x-python",
   "name": "python",
   "nbconvert_exporter": "python",
   "pygments_lexer": "ipython3",
   "version": "3.9.13"
  }
 },
 "nbformat": 4,
 "nbformat_minor": 5
}
